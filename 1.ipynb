{
 "cells": [
  {
   "cell_type": "code",
   "execution_count": 2,
   "metadata": {},
   "outputs": [
    {
     "name": "stdout",
     "output_type": "stream",
     "text": [
      "{('Alex', 'Martinez', 65): ['Giro'],\n",
      " ('Emma', 'Wright', 18): ['Odi'],\n",
      " ('Hannah', 'Taylor', 40): ['Snape'],\n",
      " ('Jake', 'Smirnoff', 18): ['Butch'],\n",
      " ('John', 'Smith', 28): ['Fido'],\n",
      " ('Josh', 'King', 25): ['Rusty', 'Balto', 'Barry', 'Lassie'],\n",
      " ('Martha', 'Robinson', 73): ['Horry', 'Chase'],\n",
      " ('Martha', 'Williams', 38): ['Ace'],\n",
      " ('Parker', 'Wilson', 50): ['Hatiko'],\n",
      " ('Simon', 'Nevel', 32): ['Zooma', 'Rocky']}\n"
     ]
    }
   ],
   "source": [
    "from pprint import pprint\n",
    "'''Каждый элемент списка – это кортеж вида \n",
    "(кличка собаки, имя владельца, фамилия владельца, возраст владельца).'''\n",
    "pets = [('Hatiko', 'Parker', 'Wilson', 50),\n",
    "        ('Rusty', 'Josh', 'King', 25),\n",
    "        ('Fido', 'John', 'Smith', 28),\n",
    "        ('Butch', 'Jake', 'Smirnoff', 18),\n",
    "        ('Odi', 'Emma', 'Wright', 18),\n",
    "        ('Balto', 'Josh', 'King', 25),\n",
    "        ('Barry', 'Josh', 'King', 25),\n",
    "        ('Snape', 'Hannah', 'Taylor', 40),\n",
    "        ('Horry', 'Martha', 'Robinson', 73),\n",
    "        ('Giro', 'Alex', 'Martinez', 65),\n",
    "        ('Zooma', 'Simon', 'Nevel', 32),\n",
    "        ('Lassie', 'Josh', 'King', 25),\n",
    "        ('Chase', 'Martha', 'Robinson', 73),\n",
    "        ('Ace', 'Martha', 'Williams', 38),\n",
    "        ('Rocky', 'Simon', 'Nevel', 32)]\n",
    "\n",
    "result  = {}\n",
    "for name_dog, *pers_info in pets:\n",
    "    result.setdefault(tuple(pers_info), []).append(name_dog)\n",
    "pprint(result)"
   ]
  }
 ],
 "metadata": {
  "kernelspec": {
   "display_name": "Python 3",
   "language": "python",
   "name": "python3"
  },
  "language_info": {
   "codemirror_mode": {
    "name": "ipython",
    "version": 3
   },
   "file_extension": ".py",
   "mimetype": "text/x-python",
   "name": "python",
   "nbconvert_exporter": "python",
   "pygments_lexer": "ipython3",
   "version": "3.10.6"
  },
  "orig_nbformat": 4
 },
 "nbformat": 4,
 "nbformat_minor": 2
}
